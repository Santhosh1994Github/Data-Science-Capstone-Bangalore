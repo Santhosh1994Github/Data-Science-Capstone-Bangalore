{
 "cells": [
  {
   "cell_type": "markdown",
   "metadata": {},
   "source": [
    "# Data Section"
   ]
  },
  {
   "cell_type": "markdown",
   "metadata": {},
   "source": [
    "## Data Required"
   ]
  },
  {
   "cell_type": "markdown",
   "metadata": {},
   "source": [
    "The data required for solving the business problem are,\n",
    "\n",
    "1.Western neighborhoods and their respective latitudes and longitudes.\n",
    "\n",
    "2.Eastern neighborhoods and their respective latitudes and longitudes."
   ]
  },
  {
   "cell_type": "markdown",
   "metadata": {},
   "source": [
    "## Data Source"
   ]
  },
  {
   "cell_type": "markdown",
   "metadata": {},
   "source": [
    "The neighborhoods data is obtained using web scraping from the below link,\n",
    "https://en.wikipedia.org/wiki/List_of_neighbourhoods_in_Bangalore#Eastern\n",
    "\n",
    "The latitude and longitude information of the neighborhoods are found using geopy python library.\n",
    "\n",
    "Next, by using the Foursquare API, the popular venues around each neighborhood is listed and then clustered accordingly."
   ]
  }
 ],
 "metadata": {
  "kernelspec": {
   "display_name": "Python",
   "language": "python",
   "name": "conda-env-python-py"
  },
  "language_info": {
   "codemirror_mode": {
    "name": "ipython",
    "version": 3
   },
   "file_extension": ".py",
   "mimetype": "text/x-python",
   "name": "python",
   "nbconvert_exporter": "python",
   "pygments_lexer": "ipython3",
   "version": "3.6.12"
  }
 },
 "nbformat": 4,
 "nbformat_minor": 4
}
